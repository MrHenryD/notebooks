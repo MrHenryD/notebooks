{
 "cells": [
  {
   "cell_type": "code",
   "execution_count": 81,
   "id": "a1a30215",
   "metadata": {},
   "outputs": [],
   "source": [
    "from datetime import datetime, timedelta\n",
    "from random import randint, random\n",
    "from typing import List, Dict\n",
    "\n",
    "import pandas as pd\n",
    "\n",
    "from feast import FeatureStore"
   ]
  },
  {
   "cell_type": "markdown",
   "id": "c3f70bd7",
   "metadata": {},
   "source": [
    "# Updating the Feature Store"
   ]
  },
  {
   "cell_type": "code",
   "execution_count": 89,
   "id": "42b0aadc",
   "metadata": {},
   "outputs": [],
   "source": [
    "def generate_dummy_data(size: int) -> List[Dict]:\n",
    "    \"\"\" Generate dummy data \"\"\"\n",
    "    \n",
    "    data = [\n",
    "        {\n",
    "            \"user_id\": i + 1, \n",
    "            \"conv_rate\": round(random(), 2),\n",
    "            \"acc_rate\": round(random(), 2),\n",
    "            \"avg_daily_trips\": randint(1, 10),\n",
    "            \"event_timestamp\": (datetime.now() - timedelta(days=randint(1, 30),\n",
    "                                                           hours=randint(1, 24),\n",
    "                                                           minutes=randint(1, 60))),\n",
    "            \"created\": (datetime.now() - timedelta(days=randint(1, 30),\n",
    "                                                           hours=randint(1, 24),\n",
    "                                                           minutes=randint(1, 60))),            \n",
    "        } for i in range(size)\n",
    "    ]\n",
    "    \n",
    "    return data"
   ]
  },
  {
   "cell_type": "code",
   "execution_count": 135,
   "id": "3c06a6d7",
   "metadata": {},
   "outputs": [
    {
     "data": {
      "text/html": [
       "<div>\n",
       "<style scoped>\n",
       "    .dataframe tbody tr th:only-of-type {\n",
       "        vertical-align: middle;\n",
       "    }\n",
       "\n",
       "    .dataframe tbody tr th {\n",
       "        vertical-align: top;\n",
       "    }\n",
       "\n",
       "    .dataframe thead th {\n",
       "        text-align: right;\n",
       "    }\n",
       "</style>\n",
       "<table border=\"1\" class=\"dataframe\">\n",
       "  <thead>\n",
       "    <tr style=\"text-align: right;\">\n",
       "      <th></th>\n",
       "      <th>user_id</th>\n",
       "      <th>conv_rate</th>\n",
       "      <th>acc_rate</th>\n",
       "      <th>avg_daily_trips</th>\n",
       "      <th>event_timestamp</th>\n",
       "      <th>created</th>\n",
       "    </tr>\n",
       "  </thead>\n",
       "  <tbody>\n",
       "    <tr>\n",
       "      <th>0</th>\n",
       "      <td>1</td>\n",
       "      <td>0.92</td>\n",
       "      <td>0.43</td>\n",
       "      <td>2</td>\n",
       "      <td>2021-10-05 20:15:42.879982</td>\n",
       "      <td>2021-09-27 07:33:42.880000</td>\n",
       "    </tr>\n",
       "    <tr>\n",
       "      <th>1</th>\n",
       "      <td>2</td>\n",
       "      <td>0.05</td>\n",
       "      <td>0.87</td>\n",
       "      <td>4</td>\n",
       "      <td>2021-09-28 13:13:42.880011</td>\n",
       "      <td>2021-09-20 21:13:42.880017</td>\n",
       "    </tr>\n",
       "    <tr>\n",
       "      <th>2</th>\n",
       "      <td>3</td>\n",
       "      <td>0.95</td>\n",
       "      <td>0.11</td>\n",
       "      <td>5</td>\n",
       "      <td>2021-10-01 06:14:42.880026</td>\n",
       "      <td>2021-10-05 07:09:42.880032</td>\n",
       "    </tr>\n",
       "    <tr>\n",
       "      <th>3</th>\n",
       "      <td>4</td>\n",
       "      <td>0.33</td>\n",
       "      <td>0.06</td>\n",
       "      <td>3</td>\n",
       "      <td>2021-10-04 01:22:42.880041</td>\n",
       "      <td>2021-10-08 01:35:42.880047</td>\n",
       "    </tr>\n",
       "    <tr>\n",
       "      <th>4</th>\n",
       "      <td>5</td>\n",
       "      <td>0.22</td>\n",
       "      <td>0.32</td>\n",
       "      <td>9</td>\n",
       "      <td>2021-09-23 18:27:42.880055</td>\n",
       "      <td>2021-10-02 14:49:42.880061</td>\n",
       "    </tr>\n",
       "    <tr>\n",
       "      <th>...</th>\n",
       "      <td>...</td>\n",
       "      <td>...</td>\n",
       "      <td>...</td>\n",
       "      <td>...</td>\n",
       "      <td>...</td>\n",
       "      <td>...</td>\n",
       "    </tr>\n",
       "    <tr>\n",
       "      <th>95</th>\n",
       "      <td>96</td>\n",
       "      <td>0.93</td>\n",
       "      <td>0.30</td>\n",
       "      <td>4</td>\n",
       "      <td>2021-09-28 01:32:42.881355</td>\n",
       "      <td>2021-10-14 23:48:42.881360</td>\n",
       "    </tr>\n",
       "    <tr>\n",
       "      <th>96</th>\n",
       "      <td>97</td>\n",
       "      <td>0.48</td>\n",
       "      <td>0.36</td>\n",
       "      <td>9</td>\n",
       "      <td>2021-09-22 14:28:42.881368</td>\n",
       "      <td>2021-09-19 19:41:42.881374</td>\n",
       "    </tr>\n",
       "    <tr>\n",
       "      <th>97</th>\n",
       "      <td>98</td>\n",
       "      <td>0.48</td>\n",
       "      <td>0.46</td>\n",
       "      <td>5</td>\n",
       "      <td>2021-09-21 18:55:42.881382</td>\n",
       "      <td>2021-09-19 07:10:42.881387</td>\n",
       "    </tr>\n",
       "    <tr>\n",
       "      <th>98</th>\n",
       "      <td>99</td>\n",
       "      <td>0.42</td>\n",
       "      <td>0.15</td>\n",
       "      <td>2</td>\n",
       "      <td>2021-10-07 07:39:42.881395</td>\n",
       "      <td>2021-09-25 19:11:42.881400</td>\n",
       "    </tr>\n",
       "    <tr>\n",
       "      <th>99</th>\n",
       "      <td>100</td>\n",
       "      <td>0.61</td>\n",
       "      <td>0.63</td>\n",
       "      <td>1</td>\n",
       "      <td>2021-10-05 03:19:42.881408</td>\n",
       "      <td>2021-09-23 08:54:42.881414</td>\n",
       "    </tr>\n",
       "  </tbody>\n",
       "</table>\n",
       "<p>100 rows × 6 columns</p>\n",
       "</div>"
      ],
      "text/plain": [
       "    user_id  conv_rate  acc_rate  avg_daily_trips            event_timestamp  \\\n",
       "0         1       0.92      0.43                2 2021-10-05 20:15:42.879982   \n",
       "1         2       0.05      0.87                4 2021-09-28 13:13:42.880011   \n",
       "2         3       0.95      0.11                5 2021-10-01 06:14:42.880026   \n",
       "3         4       0.33      0.06                3 2021-10-04 01:22:42.880041   \n",
       "4         5       0.22      0.32                9 2021-09-23 18:27:42.880055   \n",
       "..      ...        ...       ...              ...                        ...   \n",
       "95       96       0.93      0.30                4 2021-09-28 01:32:42.881355   \n",
       "96       97       0.48      0.36                9 2021-09-22 14:28:42.881368   \n",
       "97       98       0.48      0.46                5 2021-09-21 18:55:42.881382   \n",
       "98       99       0.42      0.15                2 2021-10-07 07:39:42.881395   \n",
       "99      100       0.61      0.63                1 2021-10-05 03:19:42.881408   \n",
       "\n",
       "                      created  \n",
       "0  2021-09-27 07:33:42.880000  \n",
       "1  2021-09-20 21:13:42.880017  \n",
       "2  2021-10-05 07:09:42.880032  \n",
       "3  2021-10-08 01:35:42.880047  \n",
       "4  2021-10-02 14:49:42.880061  \n",
       "..                        ...  \n",
       "95 2021-10-14 23:48:42.881360  \n",
       "96 2021-09-19 19:41:42.881374  \n",
       "97 2021-09-19 07:10:42.881387  \n",
       "98 2021-09-25 19:11:42.881400  \n",
       "99 2021-09-23 08:54:42.881414  \n",
       "\n",
       "[100 rows x 6 columns]"
      ]
     },
     "execution_count": 135,
     "metadata": {},
     "output_type": "execute_result"
    }
   ],
   "source": [
    "FILE_SOURCE = \"../stores/staging/data/user_hourly_purchases.parquet\"\n",
    "\n",
    "df = pd.DataFrame(\n",
    "        generate_dummy_data(size=100)\n",
    "    )\n",
    "\n",
    "df.to_parquet(FILE_SOURCE, index=False)\n",
    "\n",
    "df"
   ]
  },
  {
   "cell_type": "code",
   "execution_count": 126,
   "id": "dd8856a8",
   "metadata": {},
   "outputs": [
    {
     "name": "stdout",
     "output_type": "stream",
     "text": [
      "Materializing \u001b[1m\u001b[32m1\u001b[0m feature views to \u001b[1m\u001b[32m2021-10-19 20:11:05-04:00\u001b[0m into the \u001b[1m\u001b[32msqlite\u001b[0m online store.\n",
      "\n",
      "\u001b[1m\u001b[32muser_hourly_purchases\u001b[0m from \u001b[1m\u001b[32m2021-12-31 19:00:00-05:00\u001b[0m to \u001b[1m\u001b[32m2021-10-19 20:11:05-04:00\u001b[0m:\n",
      "0it [00:00, ?it/s]\n"
     ]
    }
   ],
   "source": [
    "STORE = \"../stores/staging\"\n",
    "VIEW_NAME = \"user_hourly_purchases\"\n",
    "\n",
    "!cd {STORE} && feast materialize-incremental {datetime.now().isoformat()} --views {VIEW_NAME}"
   ]
  },
  {
   "cell_type": "markdown",
   "id": "7df9a6a1",
   "metadata": {},
   "source": [
    "# Retrieving Features from Feature Store"
   ]
  },
  {
   "cell_type": "code",
   "execution_count": 140,
   "id": "509ca77b",
   "metadata": {},
   "outputs": [],
   "source": [
    "FEATURE_STORE_CONFIG = {\n",
    "    \"repo_path\": \"../stores/staging\"\n",
    "}\n",
    "\n",
    "features = [\n",
    "    \"user_hourly_purchases:conv_rate\",\n",
    "    \"user_hourly_purchases:acc_rate\",\n",
    "]\n",
    "\n",
    "fs = FeatureStore(**FEATURE_STORE_CONFIG)"
   ]
  },
  {
   "cell_type": "code",
   "execution_count": 141,
   "id": "a87a86b7",
   "metadata": {},
   "outputs": [],
   "source": [
    "user_ids = (1, 2, 3)\n",
    "\n",
    "online_features = fs.get_online_features(\n",
    "                        features=features,\n",
    "                        entity_rows=[{\"user_id\": u} for u in user_ids]\n",
    "                    ).to_dict()"
   ]
  },
  {
   "cell_type": "code",
   "execution_count": 142,
   "id": "fbeace1a",
   "metadata": {
    "scrolled": true
   },
   "outputs": [
    {
     "data": {
      "text/html": [
       "<div>\n",
       "<style scoped>\n",
       "    .dataframe tbody tr th:only-of-type {\n",
       "        vertical-align: middle;\n",
       "    }\n",
       "\n",
       "    .dataframe tbody tr th {\n",
       "        vertical-align: top;\n",
       "    }\n",
       "\n",
       "    .dataframe thead th {\n",
       "        text-align: right;\n",
       "    }\n",
       "</style>\n",
       "<table border=\"1\" class=\"dataframe\">\n",
       "  <thead>\n",
       "    <tr style=\"text-align: right;\">\n",
       "      <th></th>\n",
       "      <th>acc_rate</th>\n",
       "      <th>conv_rate</th>\n",
       "      <th>user_id</th>\n",
       "    </tr>\n",
       "  </thead>\n",
       "  <tbody>\n",
       "    <tr>\n",
       "      <th>0</th>\n",
       "      <td>0.43</td>\n",
       "      <td>0.92</td>\n",
       "      <td>1</td>\n",
       "    </tr>\n",
       "    <tr>\n",
       "      <th>1</th>\n",
       "      <td>0.87</td>\n",
       "      <td>0.05</td>\n",
       "      <td>2</td>\n",
       "    </tr>\n",
       "    <tr>\n",
       "      <th>2</th>\n",
       "      <td>0.11</td>\n",
       "      <td>0.95</td>\n",
       "      <td>3</td>\n",
       "    </tr>\n",
       "  </tbody>\n",
       "</table>\n",
       "</div>"
      ],
      "text/plain": [
       "   acc_rate  conv_rate  user_id\n",
       "0      0.43       0.92        1\n",
       "1      0.87       0.05        2\n",
       "2      0.11       0.95        3"
      ]
     },
     "execution_count": 142,
     "metadata": {},
     "output_type": "execute_result"
    }
   ],
   "source": [
    "features = pd.DataFrame(online_features)\n",
    "\n",
    "features"
   ]
  },
  {
   "cell_type": "markdown",
   "id": "f235db55",
   "metadata": {},
   "source": [
    "# Generating Predictions"
   ]
  },
  {
   "cell_type": "code",
   "execution_count": 144,
   "id": "63cb8396",
   "metadata": {},
   "outputs": [],
   "source": [
    "from random import randint\n",
    "\n",
    "class DummyModel:\n",
    "    \"\"\" Dummy Model \"\"\"\n",
    "    \n",
    "    def predict(self, row):\n",
    "        return randint(0, 1)    "
   ]
  },
  {
   "cell_type": "code",
   "execution_count": 162,
   "id": "ae6f3c16",
   "metadata": {
    "scrolled": true
   },
   "outputs": [
    {
     "data": {
      "text/html": [
       "<div>\n",
       "<style scoped>\n",
       "    .dataframe tbody tr th:only-of-type {\n",
       "        vertical-align: middle;\n",
       "    }\n",
       "\n",
       "    .dataframe tbody tr th {\n",
       "        vertical-align: top;\n",
       "    }\n",
       "\n",
       "    .dataframe thead th {\n",
       "        text-align: right;\n",
       "    }\n",
       "</style>\n",
       "<table border=\"1\" class=\"dataframe\">\n",
       "  <thead>\n",
       "    <tr style=\"text-align: right;\">\n",
       "      <th></th>\n",
       "      <th>acc_rate</th>\n",
       "      <th>conv_rate</th>\n",
       "      <th>user_id</th>\n",
       "      <th>predictions</th>\n",
       "    </tr>\n",
       "  </thead>\n",
       "  <tbody>\n",
       "    <tr>\n",
       "      <th>0</th>\n",
       "      <td>0.43</td>\n",
       "      <td>0.92</td>\n",
       "      <td>1</td>\n",
       "      <td>1</td>\n",
       "    </tr>\n",
       "    <tr>\n",
       "      <th>1</th>\n",
       "      <td>0.87</td>\n",
       "      <td>0.05</td>\n",
       "      <td>2</td>\n",
       "      <td>1</td>\n",
       "    </tr>\n",
       "    <tr>\n",
       "      <th>2</th>\n",
       "      <td>0.11</td>\n",
       "      <td>0.95</td>\n",
       "      <td>3</td>\n",
       "      <td>1</td>\n",
       "    </tr>\n",
       "  </tbody>\n",
       "</table>\n",
       "</div>"
      ],
      "text/plain": [
       "   acc_rate  conv_rate  user_id  predictions\n",
       "0      0.43       0.92        1            1\n",
       "1      0.87       0.05        2            1\n",
       "2      0.11       0.95        3            1"
      ]
     },
     "execution_count": 162,
     "metadata": {},
     "output_type": "execute_result"
    }
   ],
   "source": [
    "model = DummyModel()\n",
    "features[\"predictions\"] = features.apply(model.predict)\n",
    "\n",
    "features"
   ]
  }
 ],
 "metadata": {
  "kernelspec": {
   "display_name": "notebook-env",
   "language": "python",
   "name": "notebook-env"
  },
  "language_info": {
   "codemirror_mode": {
    "name": "ipython",
    "version": 3
   },
   "file_extension": ".py",
   "mimetype": "text/x-python",
   "name": "python",
   "nbconvert_exporter": "python",
   "pygments_lexer": "ipython3",
   "version": "3.8.8"
  }
 },
 "nbformat": 4,
 "nbformat_minor": 5
}
