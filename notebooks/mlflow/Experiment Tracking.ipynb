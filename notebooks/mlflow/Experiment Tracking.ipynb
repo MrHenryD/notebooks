{
 "cells": [
  {
   "cell_type": "code",
   "execution_count": null,
   "id": "f5b4f79e",
   "metadata": {},
   "outputs": [],
   "source": [
    "import os\n",
    "\n",
    "import pandas as pd\n",
    "\n",
    "from sklearn.datasets import load_iris\n",
    "from sklearn.linear_model import LogisticRegression\n",
    "from sklearn.model_selection import train_test_split\n",
    "\n",
    "import xgboost as xgb\n",
    "\n",
    "import mlflow.sklearn\n",
    "import mlflow.xgboost\n",
    "import mlflow.pyfunc\n",
    "\n",
    "from pyspark.sql import SparkSession\n",
    "from pyspark.sql.functions import struct"
   ]
  },
  {
   "cell_type": "markdown",
   "id": "dd660667",
   "metadata": {},
   "source": [
    "# Settings"
   ]
  },
  {
   "cell_type": "code",
   "execution_count": null,
   "id": "c873afcd",
   "metadata": {},
   "outputs": [],
   "source": [
    "TRACKING_URI = \"http://registry:5000/\"\n",
    "EXPERIMENT = \"iSeeFlowers\"\n",
    "MODELS_DIRECTORY = \"/home/jovyan/notebooks\"\n",
    "\n",
    "REGISTERED_MODEL_NAME = \"iSeeFlowers\"\n",
    "\n",
    "mlflow.set_tracking_uri(TRACKING_URI)\n",
    "mlflow.set_experiment(EXPERIMENT)"
   ]
  },
  {
   "cell_type": "markdown",
   "id": "97d0e9c8",
   "metadata": {},
   "source": [
    "# Dataset"
   ]
  },
  {
   "cell_type": "code",
   "execution_count": null,
   "id": "78ddefda",
   "metadata": {},
   "outputs": [],
   "source": [
    "iris = load_iris()\n",
    "X, Y, feature_names = iris['data'], iris['target'], iris['feature_names']"
   ]
  },
  {
   "cell_type": "markdown",
   "id": "8405a2ad",
   "metadata": {},
   "source": [
    "# 1. OK Model"
   ]
  },
  {
   "cell_type": "code",
   "execution_count": null,
   "id": "77e66f3a",
   "metadata": {},
   "outputs": [],
   "source": [
    "with mlflow.start_run(run_name=\"logistic-regression\"):\n",
    "    \n",
    "    exclude__mask = iris['target'] < 2\n",
    "    x_train, x_test, y_train, y_test = X[exclude__mask], X[~exclude__mask], Y[exclude__mask], Y[~exclude__mask]\n",
    "\n",
    "    params = {\n",
    "        \"penalty\": \"l2\", \n",
    "        \"tol\": 0.0001, \n",
    "        \"C\": 1.0,\n",
    "    }\n",
    "    \n",
    "    lr = LogisticRegression(**params)\n",
    "    lr.fit(x_train, y_train)\n",
    "    score = lr.score(x_test, y_test)\n",
    "    \n",
    "    # Log Metadata\n",
    "    mlflow.log_metric(\"score\", score)\n",
    "    mlflow.log_params(params)\n",
    "    mlflow.set_tags({\n",
    "        \"Team\": \"FlowerTeam\",\n",
    "        \"Project\": \"Classification\"\n",
    "    })\n",
    "    \n",
    "    # Log Model\n",
    "    mlflow.sklearn.log_model(\n",
    "        sk_model=lr,\n",
    "        artifact_path=\"sklearn-model\",\n",
    "        registered_model_name=REGISTERED_MODEL_NAME,\n",
    "    )"
   ]
  },
  {
   "cell_type": "markdown",
   "id": "2949b065",
   "metadata": {},
   "source": [
    "# 2. Better Model"
   ]
  },
  {
   "cell_type": "code",
   "execution_count": null,
   "id": "34c4c674",
   "metadata": {},
   "outputs": [],
   "source": [
    "with mlflow.start_run(run_name=\"xgb-classifier\"):\n",
    "    \n",
    "    x_train, x_test, y_train, y_test = train_test_split(X, Y, test_size=0.2, random_state=42, shuffle=True)\n",
    "\n",
    "    params = {\n",
    "        \"penalty\": \"l2\",\n",
    "    }\n",
    "    \n",
    "    lr = LogisticRegression(**params)\n",
    "    lr.fit(x_train, y_train)\n",
    "    \n",
    "    # Log Metadata\n",
    "    score = lr.score(x_test, y_test)\n",
    "    mlflow.log_metric(\"score\", score)\n",
    "    mlflow.log_params(params)\n",
    "    mlflow.set_tags({\n",
    "        \"Team\": \"FlowerTeam\",\n",
    "        \"Project\": \"Classification\"\n",
    "    })\n",
    "    \n",
    "    # Log Model\n",
    "    mlflow.sklearn.log_model(\n",
    "        sk_model=lr,\n",
    "        artifact_path=\"xgb-model\",\n",
    "        registered_model_name=REGISTERED_MODEL_NAME,\n",
    "    )"
   ]
  },
  {
   "cell_type": "markdown",
   "id": "f0baefcc",
   "metadata": {},
   "source": [
    "# Retrieving the Model"
   ]
  },
  {
   "cell_type": "markdown",
   "id": "a656293e",
   "metadata": {},
   "source": [
    "## Original Model"
   ]
  },
  {
   "cell_type": "code",
   "execution_count": null,
   "id": "997ff53b",
   "metadata": {},
   "outputs": [],
   "source": [
    "stage = \"Staging\"\n",
    "\n",
    "model = mlflow.pyfunc.load_model(\n",
    "    model_uri=f\"models:/{REGISTERED_MODEL_NAME}/{stage}\"\n",
    ")\n",
    "\n",
    "model.predict(x_test) == y_test  # Predictions"
   ]
  },
  {
   "cell_type": "markdown",
   "id": "652b50a2",
   "metadata": {},
   "source": [
    "## Spark Model"
   ]
  },
  {
   "cell_type": "code",
   "execution_count": null,
   "id": "0db0a80b",
   "metadata": {},
   "outputs": [],
   "source": [
    "stage = \"Production\"\n",
    "\n",
    "# Create Spark Session\n",
    "spark = SparkSession \\\n",
    "        .builder \\\n",
    "        .appName(\"MLFlow Demo\") \\\n",
    "        .getOrCreate()\n",
    "\n",
    "# Generate Model UDF\n",
    "predict_udf = mlflow.pyfunc.spark_udf(spark, f\"models:/{REGISTERED_MODEL_NAME}/{stage}\")\n",
    "\n",
    "# Spark DataFrame\n",
    "df = spark.createDataFrame(pd.DataFrame(x_test, columns=feature_names))\n",
    "\n",
    "# Predict\n",
    "df = df.withColumn(\"prediction\", predict_udf(struct(\"*\")))\n",
    "\n",
    "# Collect\n",
    "df.collect()"
   ]
  }
 ],
 "metadata": {
  "kernelspec": {
   "display_name": "Python 3 (ipykernel)",
   "language": "python",
   "name": "python3"
  },
  "language_info": {
   "codemirror_mode": {
    "name": "ipython",
    "version": 3
   },
   "file_extension": ".py",
   "mimetype": "text/x-python",
   "name": "python",
   "nbconvert_exporter": "python",
   "pygments_lexer": "ipython3",
   "version": "3.9.7"
  }
 },
 "nbformat": 4,
 "nbformat_minor": 5
}
